{
 "cells": [
  {
   "cell_type": "markdown",
   "metadata": {},
   "source": [
    "## Mô hình đề xuất anime dựa vào Cosine similarity\n",
    "\n",
    "#### Mục tiêu: Dựa vào một bộ anime cho trước, ta sẽ tìm cách đề xuất cho người dùng một số bộ anime khác tương tự như bộ anime đó.\n",
    "\n",
    "Ở đây ta sẽ chỉ sử dụng các thông tin nội tại của một bộ phim, nên ta chỉ xét các đặc trưng: <span style=\"color: orange;\">'Genres', 'Type', 'Episodes', 'Producers', 'Studios', 'Source', 'Time per ep (Min)', 'Released date', 'Completed date', 'Rating'.</span>"
   ]
  },
  {
   "cell_type": "markdown",
   "metadata": {},
   "source": [
    "---"
   ]
  },
  {
   "cell_type": "markdown",
   "metadata": {},
   "source": [
    "## 1. Đọc dữ liệu"
   ]
  },
  {
   "cell_type": "code",
   "execution_count": 1,
   "metadata": {},
   "outputs": [],
   "source": [
    "import pandas as pd\n",
    "import numpy as np\n",
    "import matplotlib.pyplot as plt\n",
    "import seaborn as sns\n",
    "import os\n",
    "import re\n",
    "\n",
    "from sklearn.metrics.pairwise import cosine_similarity\n",
    "from sklearn.preprocessing import MultiLabelBinarizer\n",
    "from sklearn.preprocessing import LabelEncoder\n",
    "from sklearn.preprocessing import StandardScaler"
   ]
  },
  {
   "cell_type": "markdown",
   "metadata": {},
   "source": [
    "Các PATH dùng trong bài này"
   ]
  },
  {
   "cell_type": "code",
   "execution_count": 2,
   "metadata": {},
   "outputs": [],
   "source": [
    "ROOT = os.path.dirname(os.getcwd())\n",
    "DATASET_FOLDER = os.path.join(ROOT, 'Data Preprocessing')\n",
    "ANIME_CLEAN_DATASET = os.path.join(DATASET_FOLDER, 'anime-data-preprocessing.csv')"
   ]
  },
  {
   "cell_type": "markdown",
   "metadata": {},
   "source": [
    "Đọc dữ liệu vào dataframe"
   ]
  },
  {
   "cell_type": "code",
   "execution_count": 3,
   "metadata": {},
   "outputs": [
    {
     "name": "stdout",
     "output_type": "stream",
     "text": [
      "<class 'pandas.core.frame.DataFrame'>\n",
      "RangeIndex: 13834 entries, 0 to 13833\n",
      "Data columns (total 18 columns):\n",
      " #   Column             Non-Null Count  Dtype  \n",
      "---  ------             --------------  -----  \n",
      " 0   Name               13834 non-null  object \n",
      " 1   Score              13834 non-null  float64\n",
      " 2   Genres             13834 non-null  object \n",
      " 3   Synopsis           13834 non-null  object \n",
      " 4   Type               13834 non-null  object \n",
      " 5   Episodes           13834 non-null  float64\n",
      " 6   Producers          13834 non-null  object \n",
      " 7   Studios            13834 non-null  object \n",
      " 8   Source             13834 non-null  object \n",
      " 9   Time per ep (Min)  13834 non-null  float64\n",
      " 10  Rating             13834 non-null  object \n",
      " 11  Rank               13834 non-null  int64  \n",
      " 12  Popularity         13834 non-null  int64  \n",
      " 13  Favorites          13834 non-null  int64  \n",
      " 14  Scored By          13834 non-null  int64  \n",
      " 15  Members            13834 non-null  int64  \n",
      " 16  Released date      13834 non-null  object \n",
      " 17  Completed date     13834 non-null  object \n",
      "dtypes: float64(3), int64(5), object(10)\n",
      "memory usage: 1.9+ MB\n",
      "None\n"
     ]
    },
    {
     "data": {
      "text/html": [
       "<div>\n",
       "<style scoped>\n",
       "    .dataframe tbody tr th:only-of-type {\n",
       "        vertical-align: middle;\n",
       "    }\n",
       "\n",
       "    .dataframe tbody tr th {\n",
       "        vertical-align: top;\n",
       "    }\n",
       "\n",
       "    .dataframe thead th {\n",
       "        text-align: right;\n",
       "    }\n",
       "</style>\n",
       "<table border=\"1\" class=\"dataframe\">\n",
       "  <thead>\n",
       "    <tr style=\"text-align: right;\">\n",
       "      <th></th>\n",
       "      <th>Name</th>\n",
       "      <th>Score</th>\n",
       "      <th>Genres</th>\n",
       "      <th>Synopsis</th>\n",
       "      <th>Type</th>\n",
       "      <th>Episodes</th>\n",
       "      <th>Producers</th>\n",
       "      <th>Studios</th>\n",
       "      <th>Source</th>\n",
       "      <th>Time per ep (Min)</th>\n",
       "      <th>Rating</th>\n",
       "      <th>Rank</th>\n",
       "      <th>Popularity</th>\n",
       "      <th>Favorites</th>\n",
       "      <th>Scored By</th>\n",
       "      <th>Members</th>\n",
       "      <th>Released date</th>\n",
       "      <th>Completed date</th>\n",
       "    </tr>\n",
       "  </thead>\n",
       "  <tbody>\n",
       "    <tr>\n",
       "      <th>0</th>\n",
       "      <td>Fullmetal Alchemist: Brotherhood</td>\n",
       "      <td>9.10</td>\n",
       "      <td>Action, Adventure, Drama, Fantasy</td>\n",
       "      <td>After a horrific alchemy experiment goes wrong...</td>\n",
       "      <td>TV</td>\n",
       "      <td>64.0</td>\n",
       "      <td>Aniplex, Square Enix, Mainichi Broadcasting Sy...</td>\n",
       "      <td>Bones</td>\n",
       "      <td>Manga</td>\n",
       "      <td>24.00</td>\n",
       "      <td>R - 17+ (violence &amp; profanity)</td>\n",
       "      <td>1</td>\n",
       "      <td>3</td>\n",
       "      <td>217606</td>\n",
       "      <td>2020030</td>\n",
       "      <td>3176556</td>\n",
       "      <td>2009-04-05</td>\n",
       "      <td>2010-07-04</td>\n",
       "    </tr>\n",
       "    <tr>\n",
       "      <th>1</th>\n",
       "      <td>Steins;Gate</td>\n",
       "      <td>9.07</td>\n",
       "      <td>Drama, Sci-Fi, Suspense</td>\n",
       "      <td>Eccentric scientist Rintarou Okabe has a never...</td>\n",
       "      <td>TV</td>\n",
       "      <td>24.0</td>\n",
       "      <td>Frontier Works, Media Factory, Kadokawa Shoten...</td>\n",
       "      <td>White Fox</td>\n",
       "      <td>Visual novel</td>\n",
       "      <td>24.00</td>\n",
       "      <td>PG-13 - Teens 13 or older</td>\n",
       "      <td>2</td>\n",
       "      <td>13</td>\n",
       "      <td>182964</td>\n",
       "      <td>1336233</td>\n",
       "      <td>2440369</td>\n",
       "      <td>2011-04-06</td>\n",
       "      <td>2011-09-14</td>\n",
       "    </tr>\n",
       "    <tr>\n",
       "      <th>2</th>\n",
       "      <td>Bleach: Sennen Kessen-hen</td>\n",
       "      <td>9.07</td>\n",
       "      <td>Action, Adventure, Fantasy</td>\n",
       "      <td>Substitute Soul Reaper Ichigo Kurosaki spends ...</td>\n",
       "      <td>TV</td>\n",
       "      <td>13.0</td>\n",
       "      <td>TV Tokyo, Aniplex, Dentsu, Shueisha</td>\n",
       "      <td>Pierrot</td>\n",
       "      <td>Manga</td>\n",
       "      <td>24.00</td>\n",
       "      <td>R - 17+ (violence &amp; profanity)</td>\n",
       "      <td>3</td>\n",
       "      <td>464</td>\n",
       "      <td>17999</td>\n",
       "      <td>213872</td>\n",
       "      <td>445198</td>\n",
       "      <td>2022-10-11</td>\n",
       "      <td>2022-12-27</td>\n",
       "    </tr>\n",
       "    <tr>\n",
       "      <th>3</th>\n",
       "      <td>Gintama°</td>\n",
       "      <td>9.06</td>\n",
       "      <td>Action, Comedy, Sci-Fi</td>\n",
       "      <td>Gintoki, Shinpachi, and Kagura return as the f...</td>\n",
       "      <td>TV</td>\n",
       "      <td>51.0</td>\n",
       "      <td>TV Tokyo, Aniplex, Dentsu</td>\n",
       "      <td>Bandai Namco Pictures</td>\n",
       "      <td>Manga</td>\n",
       "      <td>24.00</td>\n",
       "      <td>PG-13 - Teens 13 or older</td>\n",
       "      <td>4</td>\n",
       "      <td>331</td>\n",
       "      <td>15947</td>\n",
       "      <td>237957</td>\n",
       "      <td>595767</td>\n",
       "      <td>2015-04-08</td>\n",
       "      <td>2016-03-30</td>\n",
       "    </tr>\n",
       "    <tr>\n",
       "      <th>4</th>\n",
       "      <td>Shingeki no Kyojin Season 3 Part 2</td>\n",
       "      <td>9.05</td>\n",
       "      <td>Action, Drama</td>\n",
       "      <td>Seeking to restore humanity's diminishing hope...</td>\n",
       "      <td>TV</td>\n",
       "      <td>10.0</td>\n",
       "      <td>Production I.G, Dentsu, Mainichi Broadcasting ...</td>\n",
       "      <td>Wit Studio</td>\n",
       "      <td>Manga</td>\n",
       "      <td>23.00</td>\n",
       "      <td>R - 17+ (violence &amp; profanity)</td>\n",
       "      <td>5</td>\n",
       "      <td>24</td>\n",
       "      <td>55245</td>\n",
       "      <td>1471825</td>\n",
       "      <td>2104016</td>\n",
       "      <td>2019-04-29</td>\n",
       "      <td>2019-07-01</td>\n",
       "    </tr>\n",
       "    <tr>\n",
       "      <th>...</th>\n",
       "      <td>...</td>\n",
       "      <td>...</td>\n",
       "      <td>...</td>\n",
       "      <td>...</td>\n",
       "      <td>...</td>\n",
       "      <td>...</td>\n",
       "      <td>...</td>\n",
       "      <td>...</td>\n",
       "      <td>...</td>\n",
       "      <td>...</td>\n",
       "      <td>...</td>\n",
       "      <td>...</td>\n",
       "      <td>...</td>\n",
       "      <td>...</td>\n",
       "      <td>...</td>\n",
       "      <td>...</td>\n",
       "      <td>...</td>\n",
       "      <td>...</td>\n",
       "    </tr>\n",
       "    <tr>\n",
       "      <th>13829</th>\n",
       "      <td>Kokuhaku</td>\n",
       "      <td>2.30</td>\n",
       "      <td>Horror</td>\n",
       "      <td>Beside a certain building, a girl appears to m...</td>\n",
       "      <td>ONA</td>\n",
       "      <td>1.0</td>\n",
       "      <td>UNKNOWN</td>\n",
       "      <td>UNKNOWN</td>\n",
       "      <td>Original</td>\n",
       "      <td>0.67</td>\n",
       "      <td>R - 17+ (violence &amp; profanity)</td>\n",
       "      <td>13830</td>\n",
       "      <td>7105</td>\n",
       "      <td>17</td>\n",
       "      <td>4904</td>\n",
       "      <td>6697</td>\n",
       "      <td>2015-08-27</td>\n",
       "      <td>2015-08-27</td>\n",
       "    </tr>\n",
       "    <tr>\n",
       "      <th>13830</th>\n",
       "      <td>Hametsu no Mars</td>\n",
       "      <td>2.22</td>\n",
       "      <td>Horror, Sci-Fi</td>\n",
       "      <td>Several months after a probe returning from Ma...</td>\n",
       "      <td>OVA</td>\n",
       "      <td>1.0</td>\n",
       "      <td>Idea Factory, King Records, Design Factory</td>\n",
       "      <td>WAO World</td>\n",
       "      <td>Visual novel</td>\n",
       "      <td>19.00</td>\n",
       "      <td>R - 17+ (violence &amp; profanity)</td>\n",
       "      <td>13831</td>\n",
       "      <td>2512</td>\n",
       "      <td>295</td>\n",
       "      <td>47630</td>\n",
       "      <td>65622</td>\n",
       "      <td>2005-07-06</td>\n",
       "      <td>2005-07-06</td>\n",
       "    </tr>\n",
       "    <tr>\n",
       "      <th>13831</th>\n",
       "      <td>Tsui no Sora</td>\n",
       "      <td>2.22</td>\n",
       "      <td>Hentai</td>\n",
       "      <td>After the sudden death of a student, mysteriou...</td>\n",
       "      <td>OVA</td>\n",
       "      <td>1.0</td>\n",
       "      <td>Obtain Future</td>\n",
       "      <td>UNKNOWN</td>\n",
       "      <td>Visual novel</td>\n",
       "      <td>23.00</td>\n",
       "      <td>Rx - Hentai</td>\n",
       "      <td>13832</td>\n",
       "      <td>7563</td>\n",
       "      <td>24</td>\n",
       "      <td>3436</td>\n",
       "      <td>5713</td>\n",
       "      <td>2002-08-10</td>\n",
       "      <td>2002-08-10</td>\n",
       "    </tr>\n",
       "    <tr>\n",
       "      <th>13832</th>\n",
       "      <td>Utsu Musume Sayuri</td>\n",
       "      <td>1.98</td>\n",
       "      <td>Avant Garde, Comedy</td>\n",
       "      <td>Sayuri is a curious creature who lives on her ...</td>\n",
       "      <td>OVA</td>\n",
       "      <td>1.0</td>\n",
       "      <td>UNKNOWN</td>\n",
       "      <td>UNKNOWN</td>\n",
       "      <td>Original</td>\n",
       "      <td>3.00</td>\n",
       "      <td>R+ - Mild Nudity</td>\n",
       "      <td>13833</td>\n",
       "      <td>4492</td>\n",
       "      <td>50</td>\n",
       "      <td>15873</td>\n",
       "      <td>20789</td>\n",
       "      <td>2003-01-01</td>\n",
       "      <td>2003-01-01</td>\n",
       "    </tr>\n",
       "    <tr>\n",
       "      <th>13833</th>\n",
       "      <td>Tenkuu Danzai Skelter+Heaven</td>\n",
       "      <td>1.85</td>\n",
       "      <td>Sci-Fi</td>\n",
       "      <td>When a mysterious entity suddenly appears in t...</td>\n",
       "      <td>OVA</td>\n",
       "      <td>1.0</td>\n",
       "      <td>Idea Factory, Cospa</td>\n",
       "      <td>Minami Machi Bugyousho</td>\n",
       "      <td>Game</td>\n",
       "      <td>19.00</td>\n",
       "      <td>PG-13 - Teens 13 or older</td>\n",
       "      <td>13834</td>\n",
       "      <td>3415</td>\n",
       "      <td>111</td>\n",
       "      <td>26431</td>\n",
       "      <td>37328</td>\n",
       "      <td>2004-12-08</td>\n",
       "      <td>2004-12-08</td>\n",
       "    </tr>\n",
       "  </tbody>\n",
       "</table>\n",
       "<p>13834 rows × 18 columns</p>\n",
       "</div>"
      ],
      "text/plain": [
       "                                     Name  Score  \\\n",
       "0        Fullmetal Alchemist: Brotherhood   9.10   \n",
       "1                             Steins;Gate   9.07   \n",
       "2               Bleach: Sennen Kessen-hen   9.07   \n",
       "3                                Gintama°   9.06   \n",
       "4      Shingeki no Kyojin Season 3 Part 2   9.05   \n",
       "...                                   ...    ...   \n",
       "13829                            Kokuhaku   2.30   \n",
       "13830                     Hametsu no Mars   2.22   \n",
       "13831                        Tsui no Sora   2.22   \n",
       "13832                  Utsu Musume Sayuri   1.98   \n",
       "13833        Tenkuu Danzai Skelter+Heaven   1.85   \n",
       "\n",
       "                                  Genres  \\\n",
       "0      Action, Adventure, Drama, Fantasy   \n",
       "1                Drama, Sci-Fi, Suspense   \n",
       "2             Action, Adventure, Fantasy   \n",
       "3                 Action, Comedy, Sci-Fi   \n",
       "4                          Action, Drama   \n",
       "...                                  ...   \n",
       "13829                             Horror   \n",
       "13830                     Horror, Sci-Fi   \n",
       "13831                             Hentai   \n",
       "13832                Avant Garde, Comedy   \n",
       "13833                             Sci-Fi   \n",
       "\n",
       "                                                Synopsis Type  Episodes  \\\n",
       "0      After a horrific alchemy experiment goes wrong...   TV      64.0   \n",
       "1      Eccentric scientist Rintarou Okabe has a never...   TV      24.0   \n",
       "2      Substitute Soul Reaper Ichigo Kurosaki spends ...   TV      13.0   \n",
       "3      Gintoki, Shinpachi, and Kagura return as the f...   TV      51.0   \n",
       "4      Seeking to restore humanity's diminishing hope...   TV      10.0   \n",
       "...                                                  ...  ...       ...   \n",
       "13829  Beside a certain building, a girl appears to m...  ONA       1.0   \n",
       "13830  Several months after a probe returning from Ma...  OVA       1.0   \n",
       "13831  After the sudden death of a student, mysteriou...  OVA       1.0   \n",
       "13832  Sayuri is a curious creature who lives on her ...  OVA       1.0   \n",
       "13833  When a mysterious entity suddenly appears in t...  OVA       1.0   \n",
       "\n",
       "                                               Producers  \\\n",
       "0      Aniplex, Square Enix, Mainichi Broadcasting Sy...   \n",
       "1      Frontier Works, Media Factory, Kadokawa Shoten...   \n",
       "2                    TV Tokyo, Aniplex, Dentsu, Shueisha   \n",
       "3                              TV Tokyo, Aniplex, Dentsu   \n",
       "4      Production I.G, Dentsu, Mainichi Broadcasting ...   \n",
       "...                                                  ...   \n",
       "13829                                            UNKNOWN   \n",
       "13830         Idea Factory, King Records, Design Factory   \n",
       "13831                                      Obtain Future   \n",
       "13832                                            UNKNOWN   \n",
       "13833                                Idea Factory, Cospa   \n",
       "\n",
       "                      Studios        Source  Time per ep (Min)  \\\n",
       "0                       Bones         Manga              24.00   \n",
       "1                   White Fox  Visual novel              24.00   \n",
       "2                     Pierrot         Manga              24.00   \n",
       "3       Bandai Namco Pictures         Manga              24.00   \n",
       "4                  Wit Studio         Manga              23.00   \n",
       "...                       ...           ...                ...   \n",
       "13829                 UNKNOWN      Original               0.67   \n",
       "13830               WAO World  Visual novel              19.00   \n",
       "13831                 UNKNOWN  Visual novel              23.00   \n",
       "13832                 UNKNOWN      Original               3.00   \n",
       "13833  Minami Machi Bugyousho          Game              19.00   \n",
       "\n",
       "                               Rating   Rank  Popularity  Favorites  \\\n",
       "0      R - 17+ (violence & profanity)      1           3     217606   \n",
       "1           PG-13 - Teens 13 or older      2          13     182964   \n",
       "2      R - 17+ (violence & profanity)      3         464      17999   \n",
       "3           PG-13 - Teens 13 or older      4         331      15947   \n",
       "4      R - 17+ (violence & profanity)      5          24      55245   \n",
       "...                               ...    ...         ...        ...   \n",
       "13829  R - 17+ (violence & profanity)  13830        7105         17   \n",
       "13830  R - 17+ (violence & profanity)  13831        2512        295   \n",
       "13831                     Rx - Hentai  13832        7563         24   \n",
       "13832                R+ - Mild Nudity  13833        4492         50   \n",
       "13833       PG-13 - Teens 13 or older  13834        3415        111   \n",
       "\n",
       "       Scored By  Members Released date Completed date  \n",
       "0        2020030  3176556    2009-04-05     2010-07-04  \n",
       "1        1336233  2440369    2011-04-06     2011-09-14  \n",
       "2         213872   445198    2022-10-11     2022-12-27  \n",
       "3         237957   595767    2015-04-08     2016-03-30  \n",
       "4        1471825  2104016    2019-04-29     2019-07-01  \n",
       "...          ...      ...           ...            ...  \n",
       "13829       4904     6697    2015-08-27     2015-08-27  \n",
       "13830      47630    65622    2005-07-06     2005-07-06  \n",
       "13831       3436     5713    2002-08-10     2002-08-10  \n",
       "13832      15873    20789    2003-01-01     2003-01-01  \n",
       "13833      26431    37328    2004-12-08     2004-12-08  \n",
       "\n",
       "[13834 rows x 18 columns]"
      ]
     },
     "execution_count": 3,
     "metadata": {},
     "output_type": "execute_result"
    }
   ],
   "source": [
    "df = pd.read_csv(ANIME_CLEAN_DATASET)\n",
    "print(df.info())\n",
    "df"
   ]
  },
  {
   "cell_type": "markdown",
   "metadata": {},
   "source": [
    "Tiến hành bỏ đi các đặc trưng <span style=\"color: red;\">'Score', 'Synopsis', 'Rank', 'Popularity', 'Favorites', 'Scored By', 'Members'</span>. "
   ]
  },
  {
   "cell_type": "code",
   "execution_count": 4,
   "metadata": {},
   "outputs": [
    {
     "data": {
      "text/html": [
       "<div>\n",
       "<style scoped>\n",
       "    .dataframe tbody tr th:only-of-type {\n",
       "        vertical-align: middle;\n",
       "    }\n",
       "\n",
       "    .dataframe tbody tr th {\n",
       "        vertical-align: top;\n",
       "    }\n",
       "\n",
       "    .dataframe thead th {\n",
       "        text-align: right;\n",
       "    }\n",
       "</style>\n",
       "<table border=\"1\" class=\"dataframe\">\n",
       "  <thead>\n",
       "    <tr style=\"text-align: right;\">\n",
       "      <th></th>\n",
       "      <th>Name</th>\n",
       "      <th>Genres</th>\n",
       "      <th>Type</th>\n",
       "      <th>Episodes</th>\n",
       "      <th>Producers</th>\n",
       "      <th>Studios</th>\n",
       "      <th>Source</th>\n",
       "      <th>Time per ep (Min)</th>\n",
       "      <th>Rating</th>\n",
       "      <th>Released date</th>\n",
       "      <th>Completed date</th>\n",
       "    </tr>\n",
       "  </thead>\n",
       "  <tbody>\n",
       "    <tr>\n",
       "      <th>0</th>\n",
       "      <td>Fullmetal Alchemist: Brotherhood</td>\n",
       "      <td>Action, Adventure, Drama, Fantasy</td>\n",
       "      <td>TV</td>\n",
       "      <td>64.0</td>\n",
       "      <td>Aniplex, Square Enix, Mainichi Broadcasting Sy...</td>\n",
       "      <td>Bones</td>\n",
       "      <td>Manga</td>\n",
       "      <td>24.0</td>\n",
       "      <td>R - 17+ (violence &amp; profanity)</td>\n",
       "      <td>2009-04-05</td>\n",
       "      <td>2010-07-04</td>\n",
       "    </tr>\n",
       "  </tbody>\n",
       "</table>\n",
       "</div>"
      ],
      "text/plain": [
       "                               Name                             Genres Type  \\\n",
       "0  Fullmetal Alchemist: Brotherhood  Action, Adventure, Drama, Fantasy   TV   \n",
       "\n",
       "   Episodes                                          Producers Studios Source  \\\n",
       "0      64.0  Aniplex, Square Enix, Mainichi Broadcasting Sy...   Bones  Manga   \n",
       "\n",
       "   Time per ep (Min)                          Rating Released date  \\\n",
       "0               24.0  R - 17+ (violence & profanity)    2009-04-05   \n",
       "\n",
       "  Completed date  \n",
       "0     2010-07-04  "
      ]
     },
     "execution_count": 4,
     "metadata": {},
     "output_type": "execute_result"
    }
   ],
   "source": [
    "columns_to_be_dropped = ['Score', 'Synopsis', 'Rank', 'Popularity', 'Favorites', 'Scored By', 'Members']\n",
    "df.drop(columns=columns_to_be_dropped, inplace=True)\n",
    "df.head(1)"
   ]
  },
  {
   "cell_type": "markdown",
   "metadata": {},
   "source": [
    "Hai đặc trưng Released date và Completed date vẫn chưa được chuyển về dạng datetime nên ta sẽ chuyển ở đây luôn, các bước xử lý phức tạp hơn ta làm trong phần sau."
   ]
  },
  {
   "cell_type": "code",
   "execution_count": 5,
   "metadata": {},
   "outputs": [],
   "source": [
    "df['Released date'] = pd.to_datetime(df['Released date'], errors='coerce')\n",
    "df['Completed date'] = pd.to_datetime(df['Completed date'], errors='coerce')"
   ]
  },
  {
   "cell_type": "markdown",
   "metadata": {},
   "source": [
    "---"
   ]
  },
  {
   "cell_type": "markdown",
   "metadata": {},
   "source": [
    "## 2. Tiền xử lý dữ liệu "
   ]
  },
  {
   "cell_type": "code",
   "execution_count": 6,
   "metadata": {},
   "outputs": [
    {
     "name": "stdout",
     "output_type": "stream",
     "text": [
      "<class 'pandas.core.frame.DataFrame'>\n",
      "RangeIndex: 13834 entries, 0 to 13833\n",
      "Data columns (total 11 columns):\n",
      " #   Column             Non-Null Count  Dtype         \n",
      "---  ------             --------------  -----         \n",
      " 0   Name               13834 non-null  object        \n",
      " 1   Genres             13834 non-null  object        \n",
      " 2   Type               13834 non-null  object        \n",
      " 3   Episodes           13834 non-null  float64       \n",
      " 4   Producers          13834 non-null  object        \n",
      " 5   Studios            13834 non-null  object        \n",
      " 6   Source             13834 non-null  object        \n",
      " 7   Time per ep (Min)  13834 non-null  float64       \n",
      " 8   Rating             13834 non-null  object        \n",
      " 9   Released date      13834 non-null  datetime64[ns]\n",
      " 10  Completed date     13727 non-null  datetime64[ns]\n",
      "dtypes: datetime64[ns](2), float64(2), object(7)\n",
      "memory usage: 1.2+ MB\n"
     ]
    }
   ],
   "source": [
    "df.info()"
   ]
  },
  {
   "cell_type": "markdown",
   "metadata": {},
   "source": [
    "Hiện tại bộ dữ liệu của chúng ta gồm 10 đặc trưng (không tính 'Name').\n",
    "\n",
    "- Các đặc trưng dạng object gồm: <span style=\"color: orange;\">'Genres', 'Type', 'Producers', 'Studios', 'Source', 'Rating'</span>.\n",
    "\n",
    "- Các đặc trưng dạng số gồm: <span style=\"color: orange;\">'Episodes', 'Time per ep (Min)'</span>.\n",
    "\n",
    "- Các đặc trưng dạng datetime gồm: <span style=\"color: orange;\">'Released date', 'Completed date'</span>."
   ]
  },
  {
   "cell_type": "markdown",
   "metadata": {},
   "source": [
    "Ta cần để ý các vấn đề quan trọng sau:\n",
    "- Ba đặc trưng <span style=\"color: orange;\">'Genres'</span>, <span style=\"color: orange;\">'Studios'</span> và <span style=\"color: orange;\"> 'Producers'</span> có dữ liệu kiểu: 'Action, Drama, Fantasy' hay 'TV Tokyo, Aniplex', tức là categorical đa nhãn. \n",
    "- Ba đặc trưng <span style=\"color: orange;\">'Type'</span>, <span style=\"color: orange;\">'Source'</span> và <span style=\"color: orange;\">'Rating'</span> là kiểu categorical đơn nhãn.\n",
    "- Đặc trưng <span style=\"color: orange;\">'Completed date'</span> có lẫn một số giá trị NaT, tức bộ anime vẫn đang chiếu.\n",
    "- Ba đặc trưng dạng object <span style=\"color: orange;\">'Producers'</span>, <span style=\"color: orange;\">'Studios'</span> và <span style=\"color: orange;\">'Source'</span> vẫn còn lẫn một số giá trị 'UNKNOWN'.\n",
    "- Hai đặc trưng dạng số: <span style=\"color: orange;\">'Episodes'</span> và <span style=\"color: orange;\">'Time per ep (Min)'</span> cần được chuẩn hóa."
   ]
  },
  {
   "cell_type": "markdown",
   "metadata": {},
   "source": [
    "### 2.1 Xử lý các đặc trưng còn lẫn 'UNKNOWN'"
   ]
  },
  {
   "cell_type": "code",
   "execution_count": 7,
   "metadata": {},
   "outputs": [
    {
     "data": {
      "text/plain": [
       "Producers    5018\n",
       "Studios      2345\n",
       "Source       1508\n",
       "dtype: int64"
      ]
     },
     "execution_count": 7,
     "metadata": {},
     "output_type": "execute_result"
    }
   ],
   "source": [
    "# Kiểm tra số lượng giá trị 'UNKNOWN' có trong một cột\n",
    "def count_unknown_values(column):\n",
    "    return column.str.upper().str.contains('UNKNOWN').sum()\n",
    "\n",
    "# Lưu ý ở đây ta biết rõ chỉ còn 2 feature 'Producers', 'Studios', 'Source' là có giá trị 'UNKNOWN'\n",
    "unknown_count = df[['Producers', 'Studios', 'Source']].apply(count_unknown_values)\n",
    "unknown_count"
   ]
  },
  {
   "cell_type": "markdown",
   "metadata": {},
   "source": [
    "- Do feature <span style=\"color: orange;\"> 'Producers'</span> có quá nhiều giá trị thiếu ('UNKNOWN'), ta xem xét bỏ luôn feature đó ra khỏi dataset.\n",
    "\n",
    "- Với hai feature còn lại ta sẽ drop các sample chứa giá trị thiếu"
   ]
  },
  {
   "cell_type": "code",
   "execution_count": 8,
   "metadata": {},
   "outputs": [],
   "source": [
    "# Drop the 'Producers' column\n",
    "df.drop(columns=['Producers'], inplace=True)\n",
    "\n",
    "# Drop các sample có giá trị 'UNKNOWN' trong 'Studios' và 'Source'\n",
    "mask = df['Studios'].str.upper().str.contains('UNKNOWN') | df['Source'].str.upper().str.contains('UNKNOWN')\n",
    "df = df[~mask]\n",
    "df = df.reset_index(drop=True)"
   ]
  },
  {
   "cell_type": "code",
   "execution_count": 9,
   "metadata": {},
   "outputs": [
    {
     "name": "stdout",
     "output_type": "stream",
     "text": [
      "<class 'pandas.core.frame.DataFrame'>\n",
      "RangeIndex: 10562 entries, 0 to 10561\n",
      "Data columns (total 10 columns):\n",
      " #   Column             Non-Null Count  Dtype         \n",
      "---  ------             --------------  -----         \n",
      " 0   Name               10562 non-null  object        \n",
      " 1   Genres             10562 non-null  object        \n",
      " 2   Type               10562 non-null  object        \n",
      " 3   Episodes           10562 non-null  float64       \n",
      " 4   Studios            10562 non-null  object        \n",
      " 5   Source             10562 non-null  object        \n",
      " 6   Time per ep (Min)  10562 non-null  float64       \n",
      " 7   Rating             10562 non-null  object        \n",
      " 8   Released date      10562 non-null  datetime64[ns]\n",
      " 9   Completed date     10468 non-null  datetime64[ns]\n",
      "dtypes: datetime64[ns](2), float64(2), object(6)\n",
      "memory usage: 825.3+ KB\n"
     ]
    }
   ],
   "source": [
    "df.info()"
   ]
  },
  {
   "cell_type": "markdown",
   "metadata": {},
   "source": [
    "### 2.2 Xử lý các đặc trưng categorical đơn nhãn"
   ]
  },
  {
   "cell_type": "markdown",
   "metadata": {},
   "source": [
    "Đối với 2 đặc trưng là <span style=\"color: orange;\">'Type'</span> và <span style=\"color: orange;\">'Source'</span>, do chúng không có Tính thứ tự nên ta dùng <span style=\"color: orange;\">One-hot encoding</span> (Ở đây dùng sẵn hàm <span style=\"color: orange;\">Dummy encoding</span> của pandas cho tiện)"
   ]
  },
  {
   "cell_type": "code",
   "execution_count": 10,
   "metadata": {},
   "outputs": [],
   "source": [
    "type_dummies = df['Type'].str.get_dummies()\n",
    "source_dummies = df['Source'].str.get_dummies()\n",
    "\n",
    "# Thêm dữ liệu mới tạo vào df cũ\n",
    "df = pd.concat([df, type_dummies, source_dummies], axis=1)\n",
    "\n",
    "# Drop các cột 'Type', 'Source' sau khi đã tạo dummies\n",
    "df.drop(columns=['Type', 'Source'], inplace=True)"
   ]
  },
  {
   "cell_type": "markdown",
   "metadata": {},
   "source": [
    "Đối với đặc trưng <span style=\"color: orange;\">'Rating'</span>, do chúng có Tính thứ tự nên ta sẽ dùng <span style=\"color: orange;\">Label encoding</span>"
   ]
  },
  {
   "cell_type": "code",
   "execution_count": 11,
   "metadata": {},
   "outputs": [],
   "source": [
    "# Tạo encoder\n",
    "encoder = LabelEncoder()\n",
    "df['Rating'] = encoder.fit_transform(df['Rating'])"
   ]
  },
  {
   "cell_type": "code",
   "execution_count": 12,
   "metadata": {},
   "outputs": [
    {
     "name": "stdout",
     "output_type": "stream",
     "text": [
      "<class 'pandas.core.frame.DataFrame'>\n",
      "RangeIndex: 10562 entries, 0 to 10561\n",
      "Data columns (total 30 columns):\n",
      " #   Column             Non-Null Count  Dtype         \n",
      "---  ------             --------------  -----         \n",
      " 0   Name               10562 non-null  object        \n",
      " 1   Genres             10562 non-null  object        \n",
      " 2   Episodes           10562 non-null  float64       \n",
      " 3   Studios            10562 non-null  object        \n",
      " 4   Time per ep (Min)  10562 non-null  float64       \n",
      " 5   Rating             10562 non-null  int32         \n",
      " 6   Released date      10562 non-null  datetime64[ns]\n",
      " 7   Completed date     10468 non-null  datetime64[ns]\n",
      " 8   Movie              10562 non-null  int64         \n",
      " 9   Music              10562 non-null  int64         \n",
      " 10  ONA                10562 non-null  int64         \n",
      " 11  OVA                10562 non-null  int64         \n",
      " 12  Special            10562 non-null  int64         \n",
      " 13  TV                 10562 non-null  int64         \n",
      " 14  4-koma manga       10562 non-null  int64         \n",
      " 15  Book               10562 non-null  int64         \n",
      " 16  Card game          10562 non-null  int64         \n",
      " 17  Game               10562 non-null  int64         \n",
      " 18  Light novel        10562 non-null  int64         \n",
      " 19  Manga              10562 non-null  int64         \n",
      " 20  Mixed media        10562 non-null  int64         \n",
      " 21  Music              10562 non-null  int64         \n",
      " 22  Novel              10562 non-null  int64         \n",
      " 23  Original           10562 non-null  int64         \n",
      " 24  Other              10562 non-null  int64         \n",
      " 25  Picture book       10562 non-null  int64         \n",
      " 26  Radio              10562 non-null  int64         \n",
      " 27  Visual novel       10562 non-null  int64         \n",
      " 28  Web manga          10562 non-null  int64         \n",
      " 29  Web novel          10562 non-null  int64         \n",
      "dtypes: datetime64[ns](2), float64(2), int32(1), int64(22), object(3)\n",
      "memory usage: 2.4+ MB\n"
     ]
    }
   ],
   "source": [
    "df.info()"
   ]
  },
  {
   "cell_type": "markdown",
   "metadata": {},
   "source": [
    "### 2.3 Xử lý các đặc trưng categorical đa nhãn"
   ]
  },
  {
   "cell_type": "markdown",
   "metadata": {},
   "source": [
    "Ta chuyển dữ liệu thành một vector chứa các giá trị nhị phân\n",
    "\n",
    "Ví dụ nếu bài toán có tổng cộng 3 class: Dog, Cat, Bird. Một dữ liệu có giá trị 'Dog, Cat' sẽ được biểu diễn bằng vector [1, 1, 0]"
   ]
  },
  {
   "cell_type": "code",
   "execution_count": 13,
   "metadata": {},
   "outputs": [],
   "source": [
    "# Trước tiên ta cần tách các giá trị string thành một list các class\n",
    "df['Genres'] = df['Genres'].apply(lambda x: [x.strip() for x in x.split(',')])\n",
    "df['Studios'] = df['Studios'].apply(lambda x: [x.strip() for x in x.split(',')])"
   ]
  },
  {
   "cell_type": "code",
   "execution_count": 14,
   "metadata": {},
   "outputs": [],
   "source": [
    "# Sử dụng mulitlabel binarizer của sklearn\n",
    "mlbinarizer = MultiLabelBinarizer()\n",
    "\n",
    "\n",
    "# Feature Studios\n",
    "# fit_transform cột Studios thành một ma trận nhị phân\n",
    "altered_Studios_matrix = mlbinarizer.fit_transform(df['Studios'])\n",
    "# Chuyển ma trận đó thành DataFrame\n",
    "altered_Studios_df = pd.DataFrame(altered_Studios_matrix, columns=mlbinarizer.classes_)\n",
    "# Gắn dataframe mới vào dataframe cũ\n",
    "df = pd.concat([df, altered_Studios_df], axis=1)\n",
    "\n",
    "\n",
    "mlbinarizer = MultiLabelBinarizer()\n",
    "# Feature Genres\n",
    "# fit_transform cột Genres thành một ma trận nhị phân\n",
    "altered_Genres_matrix = mlbinarizer.fit_transform(df['Genres'])\n",
    "# Chuyển ma trận đó thành DataFrame\n",
    "altered_Genres_df = pd.DataFrame(altered_Genres_matrix, columns=mlbinarizer.classes_)\n",
    "# Gắn dataframe mới vào dataframe cũ\n",
    "df = pd.concat([df, altered_Genres_df], axis=1)"
   ]
  },
  {
   "cell_type": "code",
   "execution_count": 15,
   "metadata": {},
   "outputs": [],
   "source": [
    "# Xóa các cột 'Genres', 'Studios' \n",
    "df.drop(columns=['Genres', 'Studios'], inplace=True)"
   ]
  },
  {
   "cell_type": "code",
   "execution_count": 16,
   "metadata": {},
   "outputs": [
    {
     "name": "stdout",
     "output_type": "stream",
     "text": [
      "<class 'pandas.core.frame.DataFrame'>\n",
      "RangeIndex: 10562 entries, 0 to 10561\n",
      "Columns: 899 entries, Name to Suspense\n",
      "dtypes: datetime64[ns](2), float64(2), int32(872), int64(22), object(1)\n",
      "memory usage: 37.3+ MB\n"
     ]
    }
   ],
   "source": [
    "df.info()"
   ]
  },
  {
   "cell_type": "markdown",
   "metadata": {},
   "source": [
    "### 2.4 Xử lý các đặc trưng datetime"
   ]
  },
  {
   "cell_type": "markdown",
   "metadata": {},
   "source": [
    "Để cho đơn giản, đối với hai đặc trưng <span style=\"color: orange;\">'Released date'</span> và <span style=\"color: orange;\">'Completed date'</span>, ta sẽ chỉ giữ lại phần <span style=\"color: orange;\">năm</span>. \n",
    "\n",
    "Với 'Completed date' nếu gặp dữ liệu dạng NaT (bộ phim này vẫn đang chiếu), ta sẽ gán năm là 2023, tức năm mà bộ dataset này được tạo ra."
   ]
  },
  {
   "cell_type": "code",
   "execution_count": 17,
   "metadata": {},
   "outputs": [],
   "source": [
    "df['Released date'] = df['Released date'].dt.year\n",
    "\n",
    "df['Completed date'] = df['Completed date'].dt.year\n",
    "df['Completed date'] = df['Completed date'].fillna(2023)\n",
    "\n",
    "# Chuyển về kiểu int cho đồng bộ\n",
    "df['Released date'] = df['Released date'].astype(int)\n",
    "df['Completed date'] = df['Completed date'].astype(int)"
   ]
  },
  {
   "cell_type": "markdown",
   "metadata": {},
   "source": [
    "### 2.5 Chuẩn hóa các đặc trưng dạng số"
   ]
  },
  {
   "cell_type": "code",
   "execution_count": 18,
   "metadata": {},
   "outputs": [],
   "source": [
    "# Các cột cần chuẩn hóa\n",
    "numeric_features = ['Episodes', 'Time per ep (Min)', 'Released date', 'Completed date']\n",
    "\n",
    "# Tạo scaler\n",
    "scaler = StandardScaler()\n",
    "\n",
    "# Chuẩn hóa các cột số\n",
    "df[numeric_features] = scaler.fit_transform(df[numeric_features])"
   ]
  },
  {
   "cell_type": "markdown",
   "metadata": {},
   "source": [
    "---"
   ]
  },
  {
   "cell_type": "markdown",
   "metadata": {},
   "source": [
    "## 3. Tạo mô hình"
   ]
  },
  {
   "cell_type": "markdown",
   "metadata": {},
   "source": [
    "Tạo ma trận cosine similarity giữa tất cả các phim với nhau"
   ]
  },
  {
   "cell_type": "code",
   "execution_count": 19,
   "metadata": {},
   "outputs": [],
   "source": [
    "anime_info_df = df.drop(columns='Name')\n",
    "cosine_similarity_matrix = cosine_similarity(anime_info_df, anime_info_df)"
   ]
  },
  {
   "cell_type": "markdown",
   "metadata": {},
   "source": [
    "Tạo hàm đề xuất phim, ở đây ta sẽ lấy input là tên phim và so sánh cosine similarity giữa thông tin của phim đó với tất cả các phim khác, sau cùng chọn ra các phim có độ tương đồng cao nhất"
   ]
  },
  {
   "cell_type": "code",
   "execution_count": 20,
   "metadata": {},
   "outputs": [],
   "source": [
    "def recommend_anime(anime_name, top_n=10):\n",
    "\n",
    "    # Lấy index của bộ anime đầu vào\n",
    "    input_anime_sample = df[df['Name'] == anime_name]\n",
    "\n",
    "    if input_anime_sample.empty:\n",
    "        print('Không có thông tin về bộ anime này.')\n",
    "        return\n",
    "    \n",
    "    input_anime_index = input_anime_sample.index[0]\n",
    "    \n",
    "\n",
    "    # Tính cosine similarity giữa bộ anime đầu vào và tất cả các bộ anime khác\n",
    "    similarities = list(enumerate(cosine_similarity_matrix[input_anime_index]))\n",
    "\n",
    "    # Sort các giá trị similarity\n",
    "    similarities = sorted(similarities, key=lambda x: x[1], reverse=True)\n",
    "\n",
    "    # Lấy top N bộ anime \n",
    "    top_n_anime = similarities[1:top_n+1]\n",
    "\n",
    "    # Lấy tên của top N bộ anime\n",
    "    top_n_anime_index = [anime[0] for anime in top_n_anime]\n",
    "    top_n_anime_names = df.iloc[top_n_anime_index]['Name']\n",
    "\n",
    "    print(f'Top {top_n} bộ anime bạn nên xem nếu bạn thích {anime_name}:')\n",
    "    for i, anime_name in enumerate(top_n_anime_names):\n",
    "        print(f'{i+1}. {anime_name}')"
   ]
  },
  {
   "cell_type": "markdown",
   "metadata": {},
   "source": [
    "Test thử"
   ]
  },
  {
   "cell_type": "code",
   "execution_count": 21,
   "metadata": {},
   "outputs": [
    {
     "name": "stdout",
     "output_type": "stream",
     "text": [
      "Top 10 bộ anime bạn nên xem nếu bạn thích Naruto:\n",
      "1. Bleach\n",
      "2. Yu☆Gi☆Oh! Duel Monsters\n",
      "3. Boruto: Naruto Next Generations\n",
      "4. Dragon Ball Z\n",
      "5. Naruto: Shippuuden\n",
      "6. InuYasha\n",
      "7. Fairy Tail\n",
      "8. Yu☆Gi☆Oh! Duel Monsters GX\n",
      "9. Katekyo Hitman Reborn!\n",
      "10. Hunter x Hunter (2011)\n"
     ]
    }
   ],
   "source": [
    "recommend_anime('Naruto')"
   ]
  },
  {
   "cell_type": "code",
   "execution_count": 22,
   "metadata": {},
   "outputs": [
    {
     "name": "stdout",
     "output_type": "stream",
     "text": [
      "Top 7 bộ anime bạn nên xem nếu bạn thích Chainsaw Man:\n",
      "1. Jigokuraku\n",
      "2. Heion Sedai no Idaten-tachi\n",
      "3. Jujutsu Kaisen\n",
      "4. Katsute Kami Datta Kemono-tachi e\n",
      "5. Dorohedoro\n",
      "6. Shingeki no Kyojin: The Final Season Part 2\n",
      "7. Kimetsu no Yaiba: Katanakaji no Sato-hen\n"
     ]
    }
   ],
   "source": [
    "recommend_anime('Chainsaw Man', 7)"
   ]
  },
  {
   "cell_type": "code",
   "execution_count": 23,
   "metadata": {},
   "outputs": [
    {
     "name": "stdout",
     "output_type": "stream",
     "text": [
      "Top 6 bộ anime bạn nên xem nếu bạn thích Kimi no Na wa.:\n",
      "1. Tenki no Ko\n",
      "2. Giovanni no Shima\n",
      "3. Ano Hi Mita Hana no Namae wo Bokutachi wa Mada Shiranai. Movie\n",
      "4. Nakitai Watashi wa Neko wo Kaburu\n",
      "5. Sora no Aosa wo Shiru Hito yo\n",
      "6. Kimi to, Nami ni Noretara\n"
     ]
    }
   ],
   "source": [
    "recommend_anime('Kimi no Na wa.', 6)"
   ]
  },
  {
   "cell_type": "code",
   "execution_count": 24,
   "metadata": {},
   "outputs": [
    {
     "name": "stdout",
     "output_type": "stream",
     "text": [
      "Top 10 bộ anime bạn nên xem nếu bạn thích Overlord:\n",
      "1. Nejimaki Seirei Senki: Tenkyou no Alderamin\n",
      "2. Overlord III\n",
      "3. Overlord II\n",
      "4. Overlord IV\n",
      "5. Mahou Sensou\n",
      "6. Gate: Jieitai Kanochi nite, Kaku Tatakaeri\n",
      "7. Gate: Jieitai Kanochi nite, Kaku Tatakaeri Part 2\n",
      "8. Kamisama no Inai Nichiyoubi\n",
      "9. Goblin Slayer\n",
      "10. Sword Art Online: Alicization - War of Underworld\n"
     ]
    }
   ],
   "source": [
    "recommend_anime('Overlord')"
   ]
  },
  {
   "cell_type": "code",
   "execution_count": 25,
   "metadata": {},
   "outputs": [
    {
     "name": "stdout",
     "output_type": "stream",
     "text": [
      "Top 10 bộ anime bạn nên xem nếu bạn thích Howl no Ugoku Shiro:\n",
      "1. Karigurashi no Arrietty\n",
      "2. Gake no Ue no Ponyo\n",
      "3. Majo no Takkyuubin\n",
      "4. Toki wo Kakeru Shoujo\n",
      "5. Neko no Ongaeshi\n",
      "6. Tibet Inu Monogatari\n",
      "7. Brave Story\n",
      "8. Mimi wo Sumaseba\n",
      "9. Kappa no Coo to Natsuyasumi\n",
      "10. Guskou Budori no Denki (2012)\n"
     ]
    }
   ],
   "source": [
    "recommend_anime('Howl no Ugoku Shiro')"
   ]
  }
 ],
 "metadata": {
  "kernelspec": {
   "display_name": "AIO310",
   "language": "python",
   "name": "python3"
  },
  "language_info": {
   "codemirror_mode": {
    "name": "ipython",
    "version": 3
   },
   "file_extension": ".py",
   "mimetype": "text/x-python",
   "name": "python",
   "nbconvert_exporter": "python",
   "pygments_lexer": "ipython3",
   "version": "3.10.14"
  }
 },
 "nbformat": 4,
 "nbformat_minor": 2
}
